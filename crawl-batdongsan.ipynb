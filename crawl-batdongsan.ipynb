{
 "cells": [
  {
   "cell_type": "markdown",
   "metadata": {},
   "source": [
    "### 1. Cài đặt và nhập thư viện\n"
   ]
  },
  {
   "cell_type": "code",
   "execution_count": null,
   "metadata": {},
   "outputs": [],
   "source": [
    "import sys\n",
    "import subprocess\n",
    "\n",
    "def import_libraries():\n",
    "    try:\n",
    "        global selenium, selenium_stealth\n",
    "        import selenium\n",
    "        import selenium_stealth\n",
    "        print(\"✅ Import thư viện thành công.\")\n",
    "        return True\n",
    "    except ImportError as e:\n",
    "        print(f\"⚠️ Thiếu thư viện {e.name}, tiến hành cài đặt...\")\n",
    "        return False\n",
    "\n",
    "# Kiểm tra và cài đặt nếu cần\n",
    "if not import_libraries():\n",
    "    subprocess.check_call([sys.executable, \"-m\", \"pip\", \"install\", \"selenium\", \"selenium-stealth\"])\n",
    "    print(\"✅ Cài đặt hoàn tất. Đang kiểm tra lại...\")\n",
    "    import_libraries()\n",
    "\n",
    "import csv\n",
    "import time\n",
    "import random\n",
    "from concurrent.futures import ThreadPoolExecutor, as_completed\n",
    "from threading import Lock\n",
    "from queue import Queue\n",
    "from selenium import webdriver\n",
    "from selenium.webdriver.common.by import By\n",
    "from selenium.webdriver.chrome.options import Options\n",
    "from selenium.webdriver.support.ui import WebDriverWait\n",
    "from selenium.webdriver.support import expected_conditions as EC\n",
    "from selenium.common.exceptions import NoSuchElementException, TimeoutException\n",
    "from selenium_stealth import stealth"
   ]
  },
  {
   "cell_type": "markdown",
   "metadata": {},
   "source": [
    "<div style=\"font-size: 13px\">\n",
    "\n",
    "| 📚 Thư viện                              | 📝 Mô tả chi tiết                                                                                                                                |\n",
    "| ---------------------------------------- | ------------------------------------------------------------------------------------------------------------------------------------------------ |\n",
    "| selenium                                 | Thư viện điều khiển trình duyệt tự động, cho phép mô phỏng hành vi người dùng như click, nhập liệu, lấy dữ liệu từ trang web.                    |\n",
    "| selenium_stealth                         | Dùng để \"ngụy trang\" trình duyệt do Selenium tạo ra, giúp tránh bị website phát hiện là bot (ví dụ như qua navigator.webdriver).                 |\n",
    "| concurrent.futures.ThreadPoolExecutor    | Cho phép chạy nhiều tác vụ song song bằng luồng (thread), tăng tốc xử lý trong các tác vụ như thu thập dữ liệu từ nhiều trang web cùng lúc.      |\n",
    "| threading.Lock                           | Dùng để đồng bộ giữa các luồng khi truy cập tài nguyên chung (như ghi file), tránh lỗi do nhiều luồng truy cập cùng lúc.                         |\n",
    "| queue.Queue                              | Một hàng đợi an toàn khi dùng đa luồng (thread-safe), rất hữu ích khi truyền dữ liệu giữa các luồng trong quá trình thu thập hoặc xử lý dữ liệu. |\n",
    "| WebDriverWait, expected_conditions (EC)  | Dùng để **chờ một điều kiện xảy ra**, ví dụ: chờ cho đến khi một phần tử xuất hiện trước khi thực hiện hành động tiếp theo.                      |\n",
    "| NoSuchElementException, TimeoutException | Bắt các lỗi phổ biến khi Selenium không tìm thấy phần tử hoặc chờ quá lâu, giúp chương trình không bị crash khi gặp trang web thay đổi bất ngờ.  |\n",
    "\n",
    "</div>\n"
   ]
  },
  {
   "cell_type": "markdown",
   "metadata": {},
   "source": [
    "### 2. Cấu hình các tham số\n"
   ]
  },
  {
   "cell_type": "code",
   "execution_count": null,
   "metadata": {},
   "outputs": [],
   "source": [
    "BASE_URL = \"https://batdongsan.com.vn/ban-nha-rieng\"\n",
    "START_PAGE = 1\n",
    "END_PAGE = 2000\n",
    "OUTPUT_FILE = \"nha_rieng.csv\"\n",
    "NUM_THREADS = 3  \n",
    "MAX_RETRIES = 3 \n",
    "lock = Lock()"
   ]
  },
  {
   "cell_type": "markdown",
   "metadata": {},
   "source": [
    "<div style=\"font-size: 13px\">\n",
    "\n",
    "| 🧩 Biến / Hằng | 📝 Mô tả                                                                                                                                                                                                                  |\n",
    "| -------------- | ------------------------------------------------------------------------------------------------------------------------------------------------------------------------------------------------------------------------- |\n",
    "| NUM_THREADS    | Số luồng (threads) sẽ được sử dụng để xử lý song song. Tăng số này giúp chương trình nhanh hơn khi thu thập dữ liệu nhiều trang.                                                                                          |\n",
    "| MAX_RETRIES    | Số lần thử lại tối đa nếu một thao tác (ví dụ như tải trang hoặc tìm phần tử) bị lỗi hoặc timeout.                                                                                                                        |\n",
    "| lock = Lock()  | Tạo một **khóa luồng (thread lock)** để đảm bảo rằng **chỉ một luồng được thực thi đoạn mã quan trọng tại một thời điểm**, giúp tránh xung đột khi nhiều luồng cùng ghi vào một tài nguyên như file hoặc biến dùng chung. |\n",
    "| BASE_URL       | URL gốc của trang web cần thu thập dữ liệu. Có thể thay đổi để thu thập các loại bất động sản khác nhau như nhà cho thuê, đất nền,...                                                                                     |\n",
    "| START_PAGE     | Trang bắt đầu thu thập dữ liệu.                                                                                                                                                                                           |\n",
    "| END_PAGE       | Trang kết thúc thu thập dữ liệu.                                                                                                                                                                                          |\n",
    "| OUTPUT_FILE    | Tên file CSV dùng để lưu dữ liệu đã thu thập.                                                                                                                                                                             |\n",
    "\n",
    "</div>\n"
   ]
  },
  {
   "cell_type": "markdown",
   "metadata": {},
   "source": [
    "### 3. Cấu hình Selenium\n"
   ]
  },
  {
   "cell_type": "code",
   "execution_count": null,
   "metadata": {},
   "outputs": [],
   "source": [
    "def setup_driver():\n",
    "    \"\"\"Khởi tạo trình duyệt với selenium-stealth để tránh bị chặn.\"\"\"\n",
    "    options = Options()\n",
    "    options.add_argument(\"--disable-blink-features=AutomationControlled\")\n",
    "    options.add_argument(\"--headless\")  \n",
    "    options.add_argument(\"--disable-gpu\")\n",
    "    options.add_argument(\"--no-sandbox\")\n",
    "    options.add_argument(\"--disable-dev-shm-usage\")\n",
    "    options.add_argument(\"user-agent=Mozilla/5.0 (Windows NT 10.0; Win64; x64) AppleWebKit/537.36 (KHTML, like Gecko) Chrome/99.0.4844.51 Safari/537.36\")\n",
    "\n",
    "    driver = webdriver.Chrome(options=options)\n",
    "\n",
    "    # Dùng selenium-stealth để tránh bị phát hiện là bot\n",
    "    stealth(driver,\n",
    "            languages=[\"en-US\", \"en\"],\n",
    "            vendor=\"Google Inc.\",\n",
    "            platform=\"Win32\",\n",
    "            webgl_vendor=\"Intel Inc.\",\n",
    "            renderer=\"Intel Iris OpenGL Engine\",\n",
    "            fix_hairline=True)\n",
    "\n",
    "    driver.delete_all_cookies()\n",
    "    return driver"
   ]
  },
  {
   "cell_type": "markdown",
   "metadata": {},
   "source": [
    "<div style=\"font-size: 13px\">\n",
    "\n",
    "| Tham số                                          | Mô tả                                                                                                                |\n",
    "| ------------------------------------------------ | -------------------------------------------------------------------------------------------------------------------- |\n",
    "| 🖥️ --headless                                    | Chạy trình duyệt ẩn                                                                                                  |\n",
    "| 🚫 --disable-blink-features=AutomationControlled | Giảm khả năng bị phát hiện là bot bằng cách vô hiệu hóa cơ chế kiểm tra tự động của Chrome.                          |\n",
    "| 🎮 --disable-gpu                                 | Vô hiệu hóa GPU, tránh lỗi khi chạy trên máy chủ không có giao diện đồ họa.                                          |\n",
    "| 🎨 --enable-unsafe-webgl                         | Kích hoạt WebGL ngay cả khi trình duyệt cho rằng nó không an toàn, giúp tránh bị phát hiện thông qua dấu vết đồ họa. |\n",
    "| 🔓 --no-sandbox                                  | Loại bỏ cơ chế \"sandbox\" của Chrome, cần thiết khi chạy trên hệ điều hành Linux không có giao diện đồ họa.           |\n",
    "| 💾 --disable-dev-shm-usage                       | Tránh lỗi hết bộ nhớ chia sẻ (/dev/shm) trên hệ thống Linux khi Chrome sử dụng quá nhiều bộ nhớ.                     |\n",
    "| 🕵️‍♂️ Giả lập User-Agent                            | Giúp trình duyệt giả lập như một người dùng thật để tránh bị phát hiện là bot.                                       |\n",
    "| 🎭 --disable-extensions                          | Vô hiệu hóa tất cả tiện ích mở rộng để giảm khả năng bị phát hiện là bot.                                            |\n",
    "| 🧹 --disable-popup-blocking                      | Ngăn trình duyệt chặn pop-up, hữu ích khi cần tương tác với các cửa sổ bật lên.                                      |\n",
    "| 🔄 --remote-debugging-port=9222                  | Cho phép gỡ lỗi từ xa, hữu ích khi cần theo dõi hành vi của trình duyệt.                                             |\n",
    "\n",
    "</div>\n"
   ]
  },
  {
   "cell_type": "markdown",
   "metadata": {},
   "source": [
    "### 4. Định nghĩa các hàm thu thập dữ liệu\n"
   ]
  },
  {
   "cell_type": "markdown",
   "metadata": {},
   "source": [
    "Trong phần này, chúng ta sẽ xây dựng hai hàm chính để thu thập dữ liệu từ website bất động sản:\n",
    "\n",
    "- `scrape_page(page, retries=0)`: Thu thập dữ liệu từ một trang cụ thể với cơ chế retry.\n",
    "- `crawl_pages_concurrently(start_page, end_page, output_file)`: Chạy nhiều tác vụ thu thập song song bằng đa luồng để tăng tốc độ.\n"
   ]
  },
  {
   "cell_type": "markdown",
   "metadata": {},
   "source": [
    "#### 4.1 Hàm scrape_page(page, retries=0)\n"
   ]
  },
  {
   "cell_type": "code",
   "execution_count": null,
   "metadata": {},
   "outputs": [],
   "source": [
    "def scrape_page(page, retries=0):\n",
    "    \"\"\"Hàm crawl một trang với cơ chế retry.\"\"\"\n",
    "    driver = setup_driver()\n",
    "    url = f\"{BASE_URL}/p{page}\"\n",
    "    print(f\"📄 Đang thu thập dữ liệu từ trang {page}...\")\n",
    "    driver.get(url)\n",
    "\n",
    "    data = []\n",
    "    try:\n",
    "        wait = WebDriverWait(driver, 10, poll_frequency=0.5)\n",
    "        properties = wait.until(EC.presence_of_all_elements_located((By.CSS_SELECTOR, \"div.js__card\")))\n",
    "\n",
    "        if not properties:\n",
    "            print(f\"⏳ Không còn dữ liệu trên trang {page}. Dừng thu thập.\")\n",
    "            driver.quit()\n",
    "            return None\n",
    "\n",
    "        for prop in properties:\n",
    "            try:\n",
    "                title = prop.find_element(By.CSS_SELECTOR, \"h3.re__card-title span\").text\n",
    "                price = prop.find_element(By.CSS_SELECTOR, \"span.re__card-config-price\").text\n",
    "                area = prop.find_element(By.CSS_SELECTOR, \"span.re__card-config-area\").text\n",
    "                \n",
    "                try:\n",
    "                    bedrooms = prop.find_element(By.CSS_SELECTOR, \"span.re__card-config-bedroom span\").text\n",
    "                except NoSuchElementException:\n",
    "                    bedrooms = \"0\"\n",
    "\n",
    "                try:\n",
    "                    toilets = prop.find_element(By.CSS_SELECTOR, \"span.re__card-config-toilet span\").text\n",
    "                except NoSuchElementException:\n",
    "                    toilets = \"0\"\n",
    "\n",
    "                try:\n",
    "                    location = prop.find_element(By.CSS_SELECTOR, \"div.re__card-location span:last-child\").text\n",
    "                except NoSuchElementException:\n",
    "                    location = \"Không có dữ liệu\"\n",
    "\n",
    "                try:\n",
    "                    published_date = prop.find_element(By.CSS_SELECTOR, \"span.re__card-published-info-published-at\").get_attribute(\"aria-label\")\n",
    "                except NoSuchElementException:\n",
    "                    published_date = \"Không có dữ liệu\"\n",
    "\n",
    "                data.append([title, price, area, bedrooms, toilets, location, published_date])\n",
    "\n",
    "            except Exception as e:\n",
    "                print(f\"⚠️ Lỗi khi lấy dữ liệu từ trang {page}: {e}\")\n",
    "\n",
    "    except (TimeoutException, Exception) as e:\n",
    "        if retries < MAX_RETRIES:\n",
    "            print(f\"⚠️ Lỗi khi crawl trang {page}, thử lại lần {retries + 1}...\")\n",
    "            time.sleep(random.uniform(2, 5))  \n",
    "            return scrape_page(page, retries + 1) \n",
    "        else:\n",
    "            print(f\"❌ Đã hết số lần thử cho trang {page}. Bỏ qua trang này.\")\n",
    "    \n",
    "    driver.quit()\n",
    "    return data"
   ]
  },
  {
   "cell_type": "markdown",
   "metadata": {},
   "source": [
    "- **Tham số**:\n",
    "\n",
    "  - `page`: Số trang cần thu thập.\n",
    "  - `retries`: Số lần thử lại nếu xảy ra lỗi (mặc định = 0).\n",
    "\n",
    "- **Cơ chế xử lý**:\n",
    "\n",
    "  - Dùng Selenium và `WebDriverWait` để chờ trang load đủ.\n",
    "  - Lấy các thông tin: tiêu đề, giá, diện tích, phòng ngủ, vệ sinh, vị trí, ngày đăng.\n",
    "  - Nếu không có dữ liệu hoặc bị lỗi, tự động thử lại tới `MAX_RETRIES`.\n",
    "\n",
    "- **Kết quả trả về**:\n",
    "  - Trả về danh sách dữ liệu nếu thành công.\n",
    "  - Trả về `None` nếu không còn dữ liệu hoặc lỗi sau nhiều lần thử.\n"
   ]
  },
  {
   "cell_type": "markdown",
   "metadata": {},
   "source": [
    "#### 4.2 Hàm crawl_pages_concurrently(start_page, end_page, output_file)\n"
   ]
  },
  {
   "cell_type": "code",
   "execution_count": null,
   "metadata": {},
   "outputs": [],
   "source": [
    "def crawl_pages_concurrently(start_page, end_page, output_file):\n",
    "    \"\"\"Thu thập dữ liệu từ nhiều trang cùng lúc bằng đa luồng.\"\"\"\n",
    "    results = []\n",
    "    queue = Queue()\n",
    "\n",
    "    # Đưa các trang cần crawl vào hàng đợi\n",
    "    for page in range(start_page, end_page + 1):\n",
    "        queue.put(page)\n",
    "\n",
    "    def worker():\n",
    "        while not queue.empty():\n",
    "            page = queue.get()\n",
    "            data = scrape_page(page)\n",
    "            if data:\n",
    "                with lock:\n",
    "                    with open(output_file, \"a\", newline=\"\", encoding=\"utf-8-sig\") as csvfile:\n",
    "                        writer = csv.writer(csvfile)\n",
    "                        writer.writerows(data)\n",
    "                print(f\"✅ Đã thu thập dữ liệu từ trang {page}\")\n",
    "            queue.task_done()\n",
    "\n",
    "    with ThreadPoolExecutor(max_workers=NUM_THREADS) as executor:\n",
    "        for _ in range(NUM_THREADS):\n",
    "            executor.submit(worker)\n",
    "\n",
    "        queue.join()\n",
    "\n",
    "    print(f\"✅ Dữ liệu đã được lưu vào `{output_file}`.\")"
   ]
  },
  {
   "cell_type": "markdown",
   "metadata": {},
   "source": [
    "- **Tham số**:\n",
    "\n",
    "  - `start_page`, `end_page`: khoảng trang cần crawl.\n",
    "  - `output_file`: đường dẫn file CSV để lưu dữ liệu.\n",
    "\n",
    "- **Cơ chế hoạt động**:\n",
    "\n",
    "  - Dùng `queue.Queue` để phân phối các trang cho các luồng.\n",
    "  - Mỗi luồng sẽ lấy 1 trang từ queue, gọi `scrape_page`, và ghi kết quả ra file.\n",
    "  - Dùng `threading.Lock` để tránh ghi file cùng lúc gây lỗi.\n",
    "\n",
    "- **Lợi ích**:\n",
    "  - Tăng tốc độ crawl nhờ chạy song song.\n",
    "  - Có thể điều chỉnh số luồng bằng `NUM_THREADS` để phù hợp tài nguyên hệ thống.\n"
   ]
  },
  {
   "cell_type": "markdown",
   "metadata": {},
   "source": [
    "### 5. Chạy trình thu thập dữ liệu\n"
   ]
  },
  {
   "cell_type": "code",
   "execution_count": null,
   "metadata": {},
   "outputs": [],
   "source": [
    "# Ghi tiêu đề CSV\n",
    "with open(OUTPUT_FILE, \"w\", newline=\"\", encoding=\"utf-8-sig\") as csvfile:\n",
    "    writer = csv.writer(csvfile)\n",
    "    writer.writerow([\"Tiêu đề\", \"Giá\", \"Diện tích\", \"Số phòng ngủ\", \"Số nhà vệ sinh\", \"Địa điểm\", \"Ngày\"])\n",
    "\n",
    "# Bắt đầu thu thập dữ liệu\n",
    "crawl_pages_concurrently(START_PAGE, END_PAGE, OUTPUT_FILE)\n"
   ]
  }
 ],
 "metadata": {
  "kernelspec": {
   "display_name": "Python 3",
   "language": "python",
   "name": "python3"
  },
  "language_info": {
   "codemirror_mode": {
    "name": "ipython",
    "version": 3
   },
   "file_extension": ".py",
   "mimetype": "text/x-python",
   "name": "python",
   "nbconvert_exporter": "python",
   "pygments_lexer": "ipython3",
   "version": "3.13.0"
  }
 },
 "nbformat": 4,
 "nbformat_minor": 2
}
