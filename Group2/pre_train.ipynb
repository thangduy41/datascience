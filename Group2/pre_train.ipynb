{
 "cells": [
  {
   "cell_type": "code",
   "execution_count": 1,
   "metadata": {},
   "outputs": [],
   "source": [
    "import findspark\n",
    "findspark.init()\n",
    "\n",
    "import pyspark\n",
    "from pyspark.sql import *\n",
    "from pyspark.sql.functions import *\n",
    "from pyspark.sql.types import *\n",
    "import numpy as np\n",
    "import json\n",
    "\n",
    "# khoi tao sparkSession\n",
    "spark = SparkSession\\\n",
    "   .builder\\\n",
    "   .appName(\"Normalize Data\")\\\n",
    "   .master(\"yarn\")\\\n",
    "   .config(\"spark.submit.deployMode\",\"client\")\\\n",
    "   .enableHiveSupport()\\\n",
    "   .getOrCreate()\n",
    "\n",
    "df = spark.read.text('/user/hadoopuser/distribute_people/*')\n",
    "data_json = json.loads(df.take(1)[0]['value'])\n"
   ]
  },
  {
   "cell_type": "code",
   "execution_count": 2,
   "metadata": {},
   "outputs": [],
   "source": [
    "# khoi tao schema cho du lieu\n",
    "schema = StructType([ \\\n",
    "    StructField(\"Width\",DoubleType(),True), \\\n",
    "    StructField(\"Length\",DoubleType(),True), \\\n",
    "    StructField(\"Bedrooms\",IntegerType(),True), \\\n",
    "    StructField(\"Bathrooms\", IntegerType(), True), \\\n",
    "    StructField(\"District\", StringType(), True), \\\n",
    "    StructField(\"Province\", StringType(), True), \\\n",
    "    StructField(\"Price\", LongType(), True)\\\n",
    "  ])\n",
    "\n",
    "# doc du lieu csv tu hdfs\n",
    "df1 = spark.read.format(\"csv\") \\\n",
    "      .option(\"header\", True) \\\n",
    "      .schema(schema) \\\n",
    "      .load(\"/output/*\")\n"
   ]
  },
  {
   "cell_type": "code",
   "execution_count": 3,
   "metadata": {},
   "outputs": [
    {
     "name": "stdout",
     "output_type": "stream",
     "text": [
      "65420\n",
      "+-----+------+--------+---------+----------+---------------+-----------+----------+\n",
      "|Width|Length|Bedrooms|Bathrooms|  District|       Province|      Price|Distribute|\n",
      "+-----+------+--------+---------+----------+---------------+-----------+----------+\n",
      "|  4.4|  68.0|       4|        6|   thu duc| tp ho chi minh| 6600000000|     4.792|\n",
      "| 13.0|  23.0|       5|        6|    quan 1| tp ho chi minh|65000000000|    25.049|\n",
      "|15.75|  19.0|       6|        6|    ba ria|ba ria-vung tau| 8000000000|     1.338|\n",
      "| 12.2|  25.0|       6|        3|  tan binh| tp ho chi minh|45000000000|    20.511|\n",
      "| 12.2|  25.0|       6|        3|  tan binh| tp ho chi minh|45000000000|    20.511|\n",
      "| 18.0|  31.0|      25|        3|    quan 8| tp ho chi minh|35000000000|    22.522|\n",
      "|  8.0|  20.0|       2|        2| luong son|       hoa binh|  780000000|       251|\n",
      "|  8.0|  20.0|       2|        2| luong son|       hoa binh| 1500000000|       251|\n",
      "|  8.0|  20.0|       6|        5|binh thanh| tp ho chi minh|23000000000|    22.031|\n",
      "|  5.0|  32.0|       3|        2|  bien hoa|       dong nai| 3400000000|     4.184|\n",
      "|  8.0|  20.0|       4|        3|  vung tau|ba ria-vung tau|12000000000|     2.111|\n",
      "| 10.0|  16.0|       4|        4|   ha dong|         ha noi|33000000000|     4.867|\n",
      "|  4.0|  40.0|       5|        3|binh thanh| tp ho chi minh| 6400000000|    22.031|\n",
      "|  8.0|  20.0|       4|        4|  bien hoa|       dong nai| 8000000000|     4.184|\n",
      "|  8.0|  20.0|       4|        3|  vung tau|ba ria-vung tau|15000000000|     2.111|\n",
      "|  8.0|  20.0|       3|        3|       hue| thua thien-hue| 3500000000|     4.787|\n",
      "|  4.0|  40.0|       5|        4|   son tra|        da nang|10000000000|     2.128|\n",
      "| 16.0|  10.0|       4|        3|   dong da|         ha noi|13000000000|    36.286|\n",
      "|  8.0|  20.0|       5|        9|    tay ho|         ha noi|38500000000|     5.443|\n",
      "| 10.0|  16.0|       6|        6|binh chanh| tp ho chi minh|21000000000|     1.663|\n",
      "+-----+------+--------+---------+----------+---------------+-----------+----------+\n",
      "only showing top 20 rows\n",
      "\n"
     ]
    }
   ],
   "source": [
    "schema2 = StructType([ \\\n",
    "    StructField(\"Width\",DoubleType(),True), \\\n",
    "    StructField(\"Length\",DoubleType(),True), \\\n",
    "    StructField(\"Bedrooms\",IntegerType(),True), \\\n",
    "    StructField(\"Bathrooms\", IntegerType(), True), \\\n",
    "    StructField(\"District\", StringType(), True), \\\n",
    "    StructField(\"Province\", StringType(), True), \\\n",
    "    StructField(\"Price\", LongType(), True),\\\n",
    "    StructField(\"Distribute\", StringType(), True) \n",
    "  ])\n",
    "rdd1 = df1.rdd.map(lambda r: (r[0], r[1], r[2], r[3],r[4],r[5],r[6], data_json[r[5]][r[4]]['distribute']))\n",
    "print(rdd1.count())\n",
    "df4 = spark.createDataFrame(rdd1, schema2)\n",
    "df4.show()\n",
    "\n",
    "# df1.select(\"Province\").filter()"
   ]
  },
  {
   "cell_type": "code",
   "execution_count": 4,
   "metadata": {},
   "outputs": [
    {
     "name": "stdout",
     "output_type": "stream",
     "text": [
      "root\n",
      " |-- Width: double (nullable = true)\n",
      " |-- Length: double (nullable = true)\n",
      " |-- Bedrooms: integer (nullable = true)\n",
      " |-- Bathrooms: integer (nullable = true)\n",
      " |-- District: string (nullable = true)\n",
      " |-- Province: string (nullable = true)\n",
      " |-- Price: long (nullable = true)\n",
      " |-- Distribute: integer (nullable = true)\n",
      "\n",
      "+-----+------+--------+---------+----------+---------------+-----------+----------+\n",
      "|Width|Length|Bedrooms|Bathrooms|  District|       Province|      Price|Distribute|\n",
      "+-----+------+--------+---------+----------+---------------+-----------+----------+\n",
      "|  4.4|  68.0|       4|        6|   thu duc| tp ho chi minh| 6600000000|      4792|\n",
      "| 13.0|  23.0|       5|        6|    quan 1| tp ho chi minh|65000000000|     25049|\n",
      "|15.75|  19.0|       6|        6|    ba ria|ba ria-vung tau| 8000000000|      1338|\n",
      "| 12.2|  25.0|       6|        3|  tan binh| tp ho chi minh|45000000000|     20511|\n",
      "| 12.2|  25.0|       6|        3|  tan binh| tp ho chi minh|45000000000|     20511|\n",
      "| 18.0|  31.0|      25|        3|    quan 8| tp ho chi minh|35000000000|     22522|\n",
      "|  8.0|  20.0|       2|        2| luong son|       hoa binh|  780000000|       251|\n",
      "|  8.0|  20.0|       2|        2| luong son|       hoa binh| 1500000000|       251|\n",
      "|  8.0|  20.0|       6|        5|binh thanh| tp ho chi minh|23000000000|     22031|\n",
      "|  5.0|  32.0|       3|        2|  bien hoa|       dong nai| 3400000000|      4184|\n",
      "|  8.0|  20.0|       4|        3|  vung tau|ba ria-vung tau|12000000000|      2111|\n",
      "| 10.0|  16.0|       4|        4|   ha dong|         ha noi|33000000000|      4867|\n",
      "|  4.0|  40.0|       5|        3|binh thanh| tp ho chi minh| 6400000000|     22031|\n",
      "|  8.0|  20.0|       4|        4|  bien hoa|       dong nai| 8000000000|      4184|\n",
      "|  8.0|  20.0|       4|        3|  vung tau|ba ria-vung tau|15000000000|      2111|\n",
      "|  8.0|  20.0|       3|        3|       hue| thua thien-hue| 3500000000|      4787|\n",
      "|  4.0|  40.0|       5|        4|   son tra|        da nang|10000000000|      2128|\n",
      "| 16.0|  10.0|       4|        3|   dong da|         ha noi|13000000000|     36286|\n",
      "|  8.0|  20.0|       5|        9|    tay ho|         ha noi|38500000000|      5443|\n",
      "| 10.0|  16.0|       6|        6|binh chanh| tp ho chi minh|21000000000|      1663|\n",
      "+-----+------+--------+---------+----------+---------------+-----------+----------+\n",
      "only showing top 20 rows\n",
      "\n"
     ]
    }
   ],
   "source": [
    "def convert_to_int(str):\n",
    "    str = str.replace(\".\", \"\")\n",
    "    return int(str)\n",
    "\n",
    "convert_to_int_udf = udf(convert_to_int, IntegerType())\n",
    "df4 = df4.withColumn('Distribute', convert_to_int_udf(col('Distribute')))\n",
    "df4.printSchema()\n",
    "df4.show()"
   ]
  },
  {
   "cell_type": "code",
   "execution_count": 5,
   "metadata": {},
   "outputs": [
    {
     "name": "stdout",
     "output_type": "stream",
     "text": [
      "100.0\n",
      "100.0\n",
      "30\n",
      "10\n",
      "44863\n"
     ]
    }
   ],
   "source": [
    "w_max = df4.select('Width').agg({\"Width\": \"max\"}).collect()[0]['max(Width)']\n",
    "l_max = df4.select('Length').agg({\"Length\": \"max\"}).collect()[0]['max(Length)']\n",
    "be_max = df4.select('Bedrooms').agg({\"Bedrooms\": \"max\"}).collect()[0]['max(Bedrooms)']\n",
    "ba_max = df4.select('Bathrooms').agg({\"Bathrooms\": \"max\"}).collect()[0]['max(Bathrooms)']\n",
    "d_max = df4.select('Distribute').agg({\"Distribute\": \"max\"}).collect()[0]['max(Distribute)']\n",
    "\n",
    "print(w_max)\n",
    "print(l_max)\n",
    "print(be_max)\n",
    "print(ba_max)\n",
    "print(d_max)"
   ]
  },
  {
   "cell_type": "code",
   "execution_count": 6,
   "metadata": {},
   "outputs": [
    {
     "name": "stdout",
     "output_type": "stream",
     "text": [
      "+------+------+--------+---------+----------+---------------+-----------+----------+\n",
      "| Width|Length|Bedrooms|Bathrooms|  District|       Province|      Price|Distribute|\n",
      "+------+------+--------+---------+----------+---------------+-----------+----------+\n",
      "| 0.044|  0.68| 0.13333|      0.6|   thu duc| tp ho chi minh| 6600000000|   0.10681|\n",
      "|  0.13|  0.23| 0.16667|      0.6|    quan 1| tp ho chi minh|65000000000|   0.55834|\n",
      "|0.1575|  0.19|     0.2|      0.6|    ba ria|ba ria-vung tau| 8000000000|   0.02982|\n",
      "| 0.122|  0.25|     0.2|      0.3|  tan binh| tp ho chi minh|45000000000|   0.45719|\n",
      "| 0.122|  0.25|     0.2|      0.3|  tan binh| tp ho chi minh|45000000000|   0.45719|\n",
      "|  0.18|  0.31| 0.83333|      0.3|    quan 8| tp ho chi minh|35000000000|   0.50202|\n",
      "|  0.08|   0.2| 0.06667|      0.2| luong son|       hoa binh|  780000000|   0.00559|\n",
      "|  0.08|   0.2| 0.06667|      0.2| luong son|       hoa binh| 1500000000|   0.00559|\n",
      "|  0.08|   0.2|     0.2|      0.5|binh thanh| tp ho chi minh|23000000000|   0.49107|\n",
      "|  0.05|  0.32|     0.1|      0.2|  bien hoa|       dong nai| 3400000000|   0.09326|\n",
      "|  0.08|   0.2| 0.13333|      0.3|  vung tau|ba ria-vung tau|12000000000|   0.04705|\n",
      "|   0.1|  0.16| 0.13333|      0.4|   ha dong|         ha noi|33000000000|   0.10849|\n",
      "|  0.04|   0.4| 0.16667|      0.3|binh thanh| tp ho chi minh| 6400000000|   0.49107|\n",
      "|  0.08|   0.2| 0.13333|      0.4|  bien hoa|       dong nai| 8000000000|   0.09326|\n",
      "|  0.08|   0.2| 0.13333|      0.3|  vung tau|ba ria-vung tau|15000000000|   0.04705|\n",
      "|  0.08|   0.2|     0.1|      0.3|       hue| thua thien-hue| 3500000000|    0.1067|\n",
      "|  0.04|   0.4| 0.16667|      0.4|   son tra|        da nang|10000000000|   0.04743|\n",
      "|  0.16|   0.1| 0.13333|      0.3|   dong da|         ha noi|13000000000|   0.80882|\n",
      "|  0.08|   0.2| 0.16667|      0.9|    tay ho|         ha noi|38500000000|   0.12132|\n",
      "|   0.1|  0.16|     0.2|      0.6|binh chanh| tp ho chi minh|21000000000|   0.03707|\n",
      "+------+------+--------+---------+----------+---------------+-----------+----------+\n",
      "only showing top 20 rows\n",
      "\n",
      "65420\n",
      "Done!!!\n"
     ]
    }
   ],
   "source": [
    "import numpy as np\n",
    "def div(val, max_val):\n",
    "    return float(np.round((val / max_val), 5))\n",
    "\n",
    "div_udf = udf(div, DoubleType())\n",
    "\n",
    "df5 = df4.withColumn('Width', div_udf(col(\"Width\"), lit(w_max)))\\\n",
    ".withColumn('Length', div_udf(col(\"Length\"), lit(l_max)))\\\n",
    ".withColumn('Bedrooms', div_udf(col(\"Bedrooms\"), lit(be_max)))\\\n",
    ".withColumn('Bathrooms', div_udf(col(\"Bathrooms\"), lit(ba_max)))\\\n",
    ".withColumn('Distribute', div_udf(col(\"Distribute\"), lit(d_max)))\\\n",
    "\n",
    "df5.show()\n",
    "print(df5.count())\n",
    "df5.repartition(1).write.format('csv')\\\n",
    "                  .option('header',True)\\\n",
    "                  .mode('overwrite')\\\n",
    "                  .option('sep',',')\\\n",
    "                  .save('/user/hadoopuser/data_pre_train')\n",
    "\n",
    "print('Done!!!')\n",
    "spark.stop()"
   ]
  },
  {
   "cell_type": "code",
   "execution_count": null,
   "metadata": {},
   "outputs": [],
   "source": []
  }
 ],
 "metadata": {
  "kernelspec": {
   "display_name": "Python 3",
   "language": "python",
   "name": "python3"
  },
  "language_info": {
   "codemirror_mode": {
    "name": "ipython",
    "version": 3
   },
   "file_extension": ".py",
   "mimetype": "text/x-python",
   "name": "python",
   "nbconvert_exporter": "python",
   "pygments_lexer": "ipython3",
   "version": "3.8.5"
  }
 },
 "nbformat": 4,
 "nbformat_minor": 4
}
